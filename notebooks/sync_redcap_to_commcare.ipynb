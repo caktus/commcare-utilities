{
 "cells": [
  {
   "cell_type": "markdown",
   "metadata": {},
   "source": [
    "# Sync REDCap To CommCare \n",
    "\n",
    "A playground for testing `sync_redcap_to_commcare.py` and its utilities in `redcap_sync.py`"
   ]
  },
  {
   "cell_type": "code",
   "execution_count": null,
   "metadata": {},
   "outputs": [],
   "source": [
    "import os\n",
    "\n",
    "import redcap\n",
    "\n",
    "from cc_utilities.constants import REDCAP_INTEGRATION_STATUS, DOB_FIELD\n",
    "from cc_utilities.command_line.sync_redcap_to_commcare import get_redcap_state\n",
    "from cc_utilities.redcap_sync import (\n",
    "    collapse_checkbox_columns,\n",
    "    normalize_phone_cols,\n",
    "    set_external_id_column,\n",
    "    upload_complete_records,\n",
    "    upload_incomplete_records,\n",
    "    split_complete_and_incomplete_records,\n",
    "    add_integration_status_columns,\n",
    "    import_records_to_redcap,\n",
    ")"
   ]
  },
  {
   "cell_type": "code",
   "execution_count": null,
   "metadata": {
    "pycharm": {
     "name": "#%%\n"
    }
   },
   "outputs": [],
   "source": [
    "redcap_api_url = os.getenv(\"REDCAP_API_URL\")\n",
    "redcap_api_key = os.getenv(\"REDCAP_API_KEY\")\n",
    "commcare_api_key = os.getenv(\"COMMCARE_API_KEY\")\n",
    "commcare_user_name = os.getenv(\"COMMCARE_USER_NAME\")\n",
    "commcare_project_name = os.getenv(\"COMMCARE_PROJECT_NAME\")\n",
    "database_url = os.getenv(\"DB_URL\")\n",
    "\n",
    "state_file = \"redcap_test.yaml\"\n",
    "sync_all = True\n",
    "phone_cols = []\n",
    "external_id_col = \"cdms_id\""
   ]
  },
  {
   "cell_type": "code",
   "execution_count": null,
   "metadata": {
    "pycharm": {
     "name": "#%%\n"
    }
   },
   "outputs": [],
   "source": [
    "# Get REDCap records\n",
    "\n",
    "state = get_redcap_state(state_file)\n",
    "redcap_project = redcap.Project(redcap_api_url, redcap_api_key)\n",
    "redcap_records = redcap_project.export_records(\n",
    "    # date_begin corresponds to the dateRangeBegin field in the REDCap\n",
    "    # API, which \"return[s] only records that have been created or modified\n",
    "    # *after* a given date/time.\" Note that REDCap expects this to be in\n",
    "    # server time, so the script and server should be run in the same time\n",
    "    # zone (or this script modified to accept a timezone argument).\n",
    "    date_begin=state[\"date_begin\"] if not sync_all else None,\n",
    "    # Tell PyCap to return a pandas DataFrame.\n",
    "    format=\"df\",\n",
    "    df_kwargs={\n",
    "        # Without index_col=False, read_csv() will use the first column\n",
    "        # (\"record_id\") as the index, which is problematic because it's\n",
    "        # not unique and is easier to handle as a separate column anyways.\n",
    "        \"index_col\": False,\n",
    "        # We import everything as a string, to avoid pandas coercing ints\n",
    "        # to floats and adding unnecessary decimal points in the data when\n",
    "        # uploaded to CommCare.\n",
    "        \"dtype\": str,\n",
    "    },\n",
    "    # Only retrieve records which have not already synced (either rejected or success),\n",
    "    # have a cdms_id, and with complete surveys.\n",
    "    filter_logic=\" AND \".join([\n",
    "        f\"[{REDCAP_INTEGRATION_STATUS}] = ''\",\n",
    "        f\"[ci_survey_complete] = 2\",\n",
    "        f\"[{external_id_col}] != ''\",\n",
    "    ])\n",
    ")\n",
    "\n",
    "redcap_records"
   ]
  },
  {
   "cell_type": "markdown",
   "metadata": {},
   "source": [
    "## Match Records in CDMS\n",
    "\n",
    "For testing what's inside `handle_cdms_matching()`"
   ]
  },
  {
   "cell_type": "code",
   "execution_count": null,
   "metadata": {},
   "outputs": [],
   "source": [
    "from sqlalchemy import MetaData, Table, create_engine, select\n",
    "import pandas as pd\n",
    "\n",
    "from cc_utilities.constants import DOB_FIELD, EXTERNAL_ID"
   ]
  },
  {
   "cell_type": "code",
   "execution_count": null,
   "metadata": {},
   "outputs": [],
   "source": [
    "# handle_cdms_matching\n",
    "\n",
    "# Drop rows missing DOB or External ID, then get a list of external IDs.\n",
    "df = redcap_records.dropna(subset=[external_id_col, DOB_FIELD])\n",
    "external_ids = df[external_id_col].tolist()\n",
    "external_ids"
   ]
  },
  {
   "cell_type": "code",
   "execution_count": null,
   "metadata": {},
   "outputs": [],
   "source": [
    "# query_cdms_for_external_ids_and_dobs\n",
    "db_url = database_url\n",
    "table_name = \"patient\"\n",
    "\n",
    "engine = create_engine(db_url)\n",
    "meta = MetaData(bind=engine)\n",
    "table = Table(table_name, meta, autoload=True, autoload_with=engine)\n",
    "query = select(\n",
    "    [getattr(table.c, external_id_col), getattr(table.c, DOB_FIELD)]\n",
    ").where(\n",
    "    getattr(table.c, external_id_col).in_(external_ids),\n",
    "    getattr(table.c, DOB_FIELD).isnot(None),\n",
    "    getattr(table.c, DOB_FIELD) != \"\",\n",
    ")\n",
    "cdms_patients_data = pd.read_sql(query, engine).to_dict(orient=\"records\")\n",
    "cdms_patients_data"
   ]
  },
  {
   "cell_type": "code",
   "execution_count": null,
   "metadata": {},
   "outputs": [],
   "source": [
    "# get_records_matching_dob\n",
    "cdms_patients_data = result\n",
    "\n",
    "lookup_df = df.set_index(external_id_col)\n",
    "\n",
    "matching_ids_dobs = {d[external_id_col]: d[DOB_FIELD] for d in cdms_patients_data}\n",
    "\n",
    "accepted_external_ids = []\n",
    "for external_id in external_ids:\n",
    "    dob = lookup_df.loc[external_id][DOB_FIELD]\n",
    "    if matching_ids_dobs.get(external_id) == dob:\n",
    "        accepted_external_ids.append(external_id)\n",
    "        \n",
    "print(f\"Accepted: {accepted_external_ids}\")"
   ]
  },
  {
   "cell_type": "code",
   "execution_count": null,
   "metadata": {},
   "outputs": [],
   "source": [
    "from cc_utilities.redcap_sync import split_records_by_accepted_external_ids\n",
    "\n",
    "matched_records, unmatched_records = split_records_by_accepted_external_ids(\n",
    "    df, redcap_records, accepted_external_ids, external_id_col\n",
    ")"
   ]
  },
  {
   "cell_type": "code",
   "execution_count": null,
   "metadata": {},
   "outputs": [],
   "source": [
    "from cc_utilities.constants import REDCAP_RECORD_ID, REDCAP_REJECTED_PERSON\n",
    "unmatched_records = unmatched_records[[REDCAP_RECORD_ID]]\n",
    "unmatched_records = add_integration_status_columns(\n",
    "    unmatched_records,\n",
    "    status=REDCAP_REJECTED_PERSON,\n",
    "    reason=f\"mismatched {DOB_FIELD} and {external_id_col}\",\n",
    ")\n",
    "unmatched_records"
   ]
  },
  {
   "cell_type": "code",
   "execution_count": null,
   "metadata": {},
   "outputs": [],
   "source": [
    "# REDCap Import\n",
    "\n",
    "redcap_project = redcap.Project(redcap_api_url, redcap_api_key)\n",
    "response = redcap_project.import_records(\n",
    "    to_import=reject_records,\n",
    "    overwrite=\"normal\",\n",
    "    return_content=\"ids\",\n",
    ")\n",
    "response\n"
   ]
  },
  {
   "cell_type": "markdown",
   "metadata": {},
   "source": [
    "## Data transformations"
   ]
  },
  {
   "cell_type": "code",
   "execution_count": null,
   "metadata": {
    "pycharm": {
     "name": "#%%\n"
    }
   },
   "outputs": [],
   "source": [
    "cases_df = normalize_phone_cols(redcap_records, phone_cols)\n",
    "cases_df.head()"
   ]
  },
  {
   "cell_type": "code",
   "execution_count": null,
   "metadata": {},
   "outputs": [],
   "source": [
    "cases_df = set_external_id_column(cases_df, external_id_col)\n",
    "cases_df"
   ]
  },
  {
   "cell_type": "code",
   "execution_count": null,
   "metadata": {},
   "outputs": [],
   "source": [
    "# From split_complete_and_incomplete_records\n",
    "# Drop columns where all values are missing.\n",
    "cases_df = cases_df.dropna(axis=1, how=\"all\")\n",
    "cases_df"
   ]
  },
  {
   "cell_type": "code",
   "execution_count": null,
   "metadata": {},
   "outputs": [],
   "source": [
    "complete_records, incomplete_records = split_complete_and_incomplete_records(cases_df)\n",
    "complete_records"
   ]
  },
  {
   "cell_type": "code",
   "execution_count": null,
   "metadata": {},
   "outputs": [],
   "source": [
    "import pandas as pd\n",
    "pd.concat([complete_records, incomplete_records])"
   ]
  },
  {
   "cell_type": "code",
   "execution_count": null,
   "metadata": {
    "pycharm": {
     "name": "#%%\n"
    }
   },
   "outputs": [],
   "source": [
    "upload_complete_records(\n",
    "    complete_records, commcare_api_key, commcare_project_name, commcare_user_name\n",
    ")"
   ]
  },
  {
   "cell_type": "code",
   "execution_count": null,
   "metadata": {},
   "outputs": [],
   "source": [
    "# TODO: Remove me\n",
    "incomplete_records[\"interview_disposition\"] = \"attempted_4_days\"\n",
    "incomplete_records = incomplete_records.loc[:1]\n",
    "incomplete_records"
   ]
  },
  {
   "cell_type": "code",
   "execution_count": null,
   "metadata": {
    "pycharm": {
     "name": "#%%\n"
    }
   },
   "outputs": [],
   "source": [
    "upload_incomplete_records(\n",
    "    incomplete_records, commcare_api_key, commcare_project_name, commcare_user_name\n",
    ")\n",
    "\n",
    "# for index, row in incomplete_records.iterrows():\n",
    "#     # Drops any values in this Series with missing/NA values,\n",
    "#     # and converts it back to a DataFrame.\n",
    "#     data = row.dropna().to_frame().transpose()\n",
    "\n",
    "# data"
   ]
  },
  {
   "cell_type": "markdown",
   "metadata": {},
   "source": [
    "# Reject records already filled out by a case investigator.\n"
   ]
  },
  {
   "cell_type": "code",
   "execution_count": null,
   "metadata": {},
   "outputs": [],
   "source": [
    "from cc_utilities.legacy_upload import get_commcare_cases_by_external_id_with_backoff\n",
    "from cc_utilities.common import get_commcare_cases, CommCareUtilitiesError"
   ]
  },
  {
   "cell_type": "code",
   "execution_count": null,
   "metadata": {},
   "outputs": [],
   "source": [
    "df = redcap_records.dropna(subset=[\"cdms_id\"])\n",
    "external_ids = df[\"cdms_id\"].to_list()\n",
    "external_ids"
   ]
  },
  {
   "cell_type": "code",
   "execution_count": null,
   "metadata": {},
   "outputs": [],
   "source": [
    "commcare_cases = []\n",
    "for ext_id in external_ids:\n",
    "    print(commcare_project_name, commcare_user_name, commcare_api_key, ext_id)\n",
    "    try:\n",
    "        commcare_cases.extend(\n",
    "            get_commcare_cases(\n",
    "                commcare_project_name, commcare_user_name, commcare_api_key, external_id=ext_id\n",
    "            )\n",
    "        )\n",
    "    except CommCareUtilitiesError:\n",
    "        print(f\"Error, skipping...\")\n",
    "        continue"
   ]
  },
  {
   "cell_type": "code",
   "execution_count": null,
   "metadata": {},
   "outputs": [],
   "source": [
    "commcare_cases[0][\"properties\"][\"interview_disposition\"]"
   ]
  },
  {
   "cell_type": "code",
   "execution_count": null,
   "metadata": {},
   "outputs": [],
   "source": [
    "props = [{cc[\"properties\"][\"cdms_id\"]: cc[\"properties\"].get(\"interview_disposition\")} for cc in commcare_cases]\n",
    "props"
   ]
  },
  {
   "cell_type": "code",
   "execution_count": null,
   "metadata": {},
   "outputs": [],
   "source": []
  }
 ],
 "metadata": {
  "kernelspec": {
   "display_name": "Python 3",
   "language": "python",
   "name": "python3"
  },
  "language_info": {
   "codemirror_mode": {
    "name": "ipython",
    "version": 3
   },
   "file_extension": ".py",
   "mimetype": "text/x-python",
   "name": "python",
   "nbconvert_exporter": "python",
   "pygments_lexer": "ipython3",
   "version": "3.7.10"
  }
 },
 "nbformat": 4,
 "nbformat_minor": 4
}
